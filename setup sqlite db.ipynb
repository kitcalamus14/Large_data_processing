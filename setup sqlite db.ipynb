{
 "cells": [
  {
   "cell_type": "code",
   "execution_count": 13,
   "metadata": {},
   "outputs": [],
   "source": [
    "import sqlite3 as sqlite3\n",
    "import json\n",
    "import pandas as pd"
   ]
  },
  {
   "cell_type": "code",
   "execution_count": 8,
   "metadata": {},
   "outputs": [],
   "source": []
  },
  {
   "cell_type": "code",
   "execution_count": 9,
   "metadata": {},
   "outputs": [
    {
     "ename": "OperationalError",
     "evalue": "incomplete input",
     "output_type": "error",
     "traceback": [
      "\u001b[1;31m---------------------------------------------------------------------------\u001b[0m",
      "\u001b[1;31mOperationalError\u001b[0m                          Traceback (most recent call last)",
      "\u001b[1;32m<ipython-input-9-1c720262620a>\u001b[0m in \u001b[0;36m<module>\u001b[1;34m\u001b[0m\n\u001b[1;32m----> 1\u001b[1;33m \u001b[0mc\u001b[0m\u001b[1;33m.\u001b[0m\u001b[0mexecute\u001b[0m\u001b[1;33m(\u001b[0m\u001b[1;34m\"CREATE TABLE IF NOT EXISTS data\"\u001b[0m\u001b[1;33m)\u001b[0m\u001b[1;33m\u001b[0m\u001b[1;33m\u001b[0m\u001b[0m\n\u001b[0m",
      "\u001b[1;31mOperationalError\u001b[0m: incomplete input"
     ]
    }
   ],
   "source": []
  },
  {
   "cell_type": "code",
   "execution_count": null,
   "metadata": {},
   "outputs": [],
   "source": [
    "\n"
   ]
  },
  {
   "cell_type": "code",
   "execution_count": 15,
   "metadata": {},
   "outputs": [
    {
     "data": {
      "text/plain": [
       "Index(['contributors', 'coordinates', 'created_at', 'favorite_count', 'geo',\n",
       "       'id', 'id_str', 'in_reply_to_screen_name', 'in_reply_to_status_id',\n",
       "       'in_reply_to_status_id_str', 'in_reply_to_user_id',\n",
       "       'in_reply_to_user_id_str', 'is_quote_status', 'lang', 'place',\n",
       "       'retweet_count', 'retweeted', 'screen_name', 'source', 'text',\n",
       "       'truncated', 'user_id'],\n",
       "      dtype='object')"
      ]
     },
     "execution_count": 15,
     "metadata": {},
     "output_type": "execute_result"
    }
   ],
   "source": [
    "#get the column names to create sql tables\n",
    "x=0\n",
    "with open('tweets.json') as f :\n",
    "    for entry in f:\n",
    "        t = entry.strip()\n",
    "        t = json.loads(t)\n",
    "        df = pd.DataFrame.from_dict(t,orient='index')\n",
    "        df = df.transpose()\n",
    "        del df['entities']\n",
    "        del df['display_text_range']\n",
    "        del df['favorited']\n",
    "        x = x+1\n",
    "        if x>1: break\n"
   ]
  },
  {
   "cell_type": "code",
   "execution_count": 19,
   "metadata": {},
   "outputs": [],
   "source": [
    "conn = sqlite3.connect('toaster')\n",
    "c = conn.cursor()\n",
    "c.execute(''' CREATE TABLE IF NOT EXISTS data (\"contributors\",\n",
    "\t\"coordinates\",\n",
    "\t\"created_at\",\n",
    "\t\"favorite_count\",\n",
    "\t\"geo\",\n",
    "\t\"id\",\n",
    "\t\"id_str\",\n",
    "\t\"in_reply_to_screen_name\",\n",
    "\t\"in_reply_to_status_id\",\n",
    "\t\"in_reply_to_status_id_str\",\n",
    "\t\"in_reply_to_user_id\",\n",
    "\t\"in_reply_to_user_id_str\",\n",
    "\t\"is_quote_status\",\n",
    "\t\"lang\",\n",
    "\t\"place\",\n",
    "\t\"retweet_count\",\n",
    "\t\"retweeted\",\n",
    "\t\"screen_name\",\n",
    "\t\"source\",\n",
    "\t\"text\",\n",
    "\t\"truncated\",\n",
    "\t\"user_id\"\n",
    ") ''')\n",
    "conn.commit()\n",
    "conn.close()"
   ]
  },
  {
   "cell_type": "code",
   "execution_count": 20,
   "metadata": {},
   "outputs": [
    {
     "data": {
      "text/plain": [
       "22"
      ]
     },
     "execution_count": 20,
     "metadata": {},
     "output_type": "execute_result"
    }
   ],
   "source": [
    "len(df.columns)"
   ]
  },
  {
   "cell_type": "code",
   "execution_count": null,
   "metadata": {},
   "outputs": [],
   "source": []
  }
 ],
 "metadata": {
  "kernelspec": {
   "display_name": "Python 3",
   "language": "python",
   "name": "python3"
  },
  "language_info": {
   "codemirror_mode": {
    "name": "ipython",
    "version": 3
   },
   "file_extension": ".py",
   "mimetype": "text/x-python",
   "name": "python",
   "nbconvert_exporter": "python",
   "pygments_lexer": "ipython3",
   "version": "3.8.3"
  }
 },
 "nbformat": 4,
 "nbformat_minor": 4
}
