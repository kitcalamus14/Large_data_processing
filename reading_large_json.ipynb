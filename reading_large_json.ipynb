{
 "cells": [
  {
   "cell_type": "markdown",
   "metadata": {},
   "source": [
    "### Introduction\n",
    "\n",
    "I was doing a project involved using a JSON file that is beyond 1GB. Although my setup was good enough to perform the entire ETL process without limitations, I understood that low-end device may be bottlenecked, let alone the unavoidable data growth in future.\n",
    "\n",
    "The proprosed pipeline that I wanted to achieve is as follow:\n",
    "\n",
    "<img src=\"1.png\">\n",
    "\n",
    "Therefore, I designed the following method which performs the entire decribed process in a row by row basis, consuming neglectable cpu and memory usage, however, at the cost of extended runtime.\n",
    "\n",
    "here is the link to the dataset, please download, unzip and place it into directory incase you would like to follow along.\n",
    "dataset: https://www.dropbox.com/sh/qrq1pcjsji0v03u/AAC639WcH58tM0YZperwY388a?dl=0\n",
    "\n",
    "I read and used part of the code from:\n",
    "https://pynative.com/python-sqlite-insert-into-table/\n",
    "\n",
    "please read through it if you think this is interesting\n",
    "\n",
    "Note: You must run the 'setup sqlite db' python file before this to setup the table beforehead which can be find within the same project repository\n",
    "\n",
    "---\n",
    "### Coding"
   ]
  },
  {
   "cell_type": "code",
   "execution_count": 2,
   "metadata": {},
   "outputs": [],
   "source": [
    "import pandas as pd\n",
    "import json\n",
    "from pandas.io.json import json_normalize\n",
    "from sqlalchemy import create_engine\n",
    "import sqlite3 as db\n",
    "import sqlite3\n",
    "from IPython.display import clear_output\n",
    "import json"
   ]
  },
  {
   "cell_type": "code",
   "execution_count": 11,
   "metadata": {},
   "outputs": [],
   "source": [
    "def insertVaribleIntoTable(v1, v2, v3, v4, v5, v6, v7, v8, v9, v10, v11, v12, v13, v14, v15, v16, v17, v18, v19, v20, v21, v22):\n",
    "    try:\n",
    "        sqliteConnection = sqlite3.connect('toaster')\n",
    "        cursor = sqliteConnection.cursor()\n",
    "        print(\"Connected to SQLite\")\n",
    "\n",
    "        sqlite_insert_with_param = \"\"\"INSERT INTO data\n",
    "                          (contributors, coordinates, created_at, favorite_count, \n",
    "                          geo,id, id_str, in_reply_to_screen_name, in_reply_to_status_id,\n",
    "                          in_reply_to_status_id_str, in_reply_to_user_id, \n",
    "                          in_reply_to_user_id_str, is_quote_status, lang, place,\n",
    "                          retweet_count, retweeted, screen_name, source, text, \n",
    "                          truncated, user_id\n",
    "                          ) \n",
    "                          VALUES (?, ?, ?, ?, ?, ?, ?, ?, ?, ?, ?, ?, ?, ?, ?, ?, ?, ?, ?, ?, ?, ?);\"\"\"\n",
    "\n",
    "        data_tuple = (v1, v2, v3, v4, v5, v6, v7, v8, v9, v10, v11, v12, v13, v14, v15, v16, v17, v18, v19, v20, v21, v22)\n",
    "        cursor.execute(sqlite_insert_with_param, data_tuple)\n",
    "        sqliteConnection.commit()\n",
    "        print(\"Python Variables inserted successfully into SqliteDb_developers table\")\n",
    "\n",
    "        cursor.close()\n",
    "\n",
    "    except sqlite3.Error as error:\n",
    "        print(\"Failed to insert Python variable into sqlite table\", error)\n",
    "    finally:\n",
    "        if (sqliteConnection):\n",
    "            sqliteConnection.close()\n",
    "            print(\"The SQLite connection is closed\")"
   ]
  },
  {
   "cell_type": "code",
   "execution_count": null,
   "metadata": {},
   "outputs": [],
   "source": [
    "x = 0\n",
    "with open('tweets.json') as f :\n",
    "    for entry in f:\n",
    "        t = entry.strip()\n",
    "        t = json.loads(t)\n",
    "        df = pd.DataFrame.from_dict(t,orient='index')\n",
    "        df = df.transpose()\n",
    "        del df['entities']\n",
    "        del df['display_text_range']\n",
    "        del df['favorited']\n",
    "        data = df.values.flatten().flatten()\n",
    "        data_str = []\n",
    "        for entry in data:\n",
    "            data_str.append(str(entry))\n",
    "        v1, v2, v3, v4, v5, v6, v7, v8, v9, v10, v11, v12, v13, v14, v15, v16, v17, v18, v19, v20, v21, v22 = (data_str[0],data_str[1],data_str[2],data_str[3],data_str[4],data_str[5],data_str[6],data_str[7],data_str[8],data_str[9],data_str[10],data_str[11],data_str[12],data_str[13],data_str[14],data_str[15],data_str[16],data_str[17],data_str[18],data_str[19],data_str[20],data_str[21])\n",
    "        insertVaribleIntoTable(v1, v2, v3, v4, v5, v6, v7, v8, v9, v10, v11, v12, v13, v14, v15, v16, v17, v18, v19, v20, v21, v22)\n",
    "        clear_output(wait=True)\n",
    "        print(x)\n",
    "        x = x+1"
   ]
  },
  {
   "cell_type": "markdown",
   "metadata": {},
   "source": [
    "The output is a toaster.db file, which contains 6252 entries of processed data"
   ]
  }
 ],
 "metadata": {
  "kernelspec": {
   "display_name": "Python 3",
   "language": "python",
   "name": "python3"
  },
  "language_info": {
   "codemirror_mode": {
    "name": "ipython",
    "version": 3
   },
   "file_extension": ".py",
   "mimetype": "text/x-python",
   "name": "python",
   "nbconvert_exporter": "python",
   "pygments_lexer": "ipython3",
   "version": "3.8.3"
  }
 },
 "nbformat": 4,
 "nbformat_minor": 4
}
